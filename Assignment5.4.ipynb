{
 "cells": [
  {
   "cell_type": "code",
   "execution_count": 1,
   "metadata": {},
   "outputs": [],
   "source": [
    "import numpy as np"
   ]
  },
  {
   "cell_type": "code",
   "execution_count": 2,
   "metadata": {},
   "outputs": [
    {
     "name": "stdout",
     "output_type": "stream",
     "text": [
      "Enter the step: 4\n",
      "25.0\n",
      "35.0\n",
      "45.0\n",
      "55.0\n",
      "65.0\n",
      "75.0\n",
      "85.0\n"
     ]
    }
   ],
   "source": [
    "def  myavg1(x):\n",
    "    step  =  int(input(\"Enter the step: \"))\n",
    "    for i in range(0,len(x)-step+1):\n",
    "        sums = 0\n",
    "        avg = 0\n",
    "        for j in range(i,step+i):\n",
    "            sums+=x[j]\n",
    "        avg = sums/step\n",
    "        print(avg)\n",
    "\n",
    "temp1 = []\n",
    "lst1 = np.append(temp1,[10,20,30,40,50,60,70,80,90,100])\n",
    "lst1 = lst1.astype(int)\n",
    "myavg1(lst1)"
   ]
  },
  {
   "cell_type": "code",
   "execution_count": 3,
   "metadata": {},
   "outputs": [
    {
     "name": "stdout",
     "output_type": "stream",
     "text": [
      "Enter the step: 3\n",
      "5.0\n",
      "4.666666666666667\n",
      "5.666666666666667\n",
      "6.666666666666667\n",
      "9.666666666666666\n",
      "28.666666666666668\n",
      "49.333333333333336\n",
      "72.66666666666667\n",
      "84.0\n",
      "93.33333333333333\n",
      "116.33333333333333\n"
     ]
    }
   ],
   "source": [
    "def myavg2(x):\n",
    "    step = int(input(\"Enter the step: \"))\n",
    "    for i in range(0,len(x)-step+1):\n",
    "        sums = 0\n",
    "        avg = 0\n",
    "        for j in range(i,step+i):\n",
    "            sums+=x[j]\n",
    "        avg = sums/step\n",
    "        print(avg)\n",
    "\n",
    "temp2 = []\n",
    "lst2 = np.append(temp2,[3, 5, 7, 2, 8, 10, 11, 65, 72, 81, 99, 100, 150])\n",
    "lst2 = lst2.astype(int)\n",
    "myavg2(lst2)"
   ]
  }
 ],
 "metadata": {
  "kernelspec": {
   "display_name": "Python 3",
   "language": "python",
   "name": "python3"
  },
  "language_info": {
   "codemirror_mode": {
    "name": "ipython",
    "version": 3
   },
   "file_extension": ".py",
   "mimetype": "text/x-python",
   "name": "python",
   "nbconvert_exporter": "python",
   "pygments_lexer": "ipython3",
   "version": "3.6.4"
  }
 },
 "nbformat": 4,
 "nbformat_minor": 2
}
